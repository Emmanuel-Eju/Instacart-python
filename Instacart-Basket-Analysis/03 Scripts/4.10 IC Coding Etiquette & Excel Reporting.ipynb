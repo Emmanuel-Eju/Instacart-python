{
 "cells": [
  {
   "cell_type": "markdown",
   "id": "acbb5aa6",
   "metadata": {},
   "source": [
    "# Contents:"
   ]
  },
  {
   "cell_type": "markdown",
   "id": "e50669ec",
   "metadata": {},
   "source": [
    "#### Importing libraries and data frames\n",
    "#### Creating a region flag\n",
    "#### Crossing the region flag with the spending flag\n",
    "#### Creating an exclusion flag for customers with under 5 orders\n",
    "#### Creating customer profiling variables (family status, vegan status, and age categories)\n",
    "#### Grouping and aggregation (order frequency and expenditure)\n",
    "#### Visualizations\n",
    "#### Crosstabulation and aggregation of customer profiling variables\n",
    "#### Saving and exporting to a pkl file"
   ]
  },
  {
   "cell_type": "markdown",
   "id": "1e521b91",
   "metadata": {},
   "source": [
    "## Importing libraries and data frames"
   ]
  },
  {
   "cell_type": "code",
   "execution_count": 8,
   "id": "c66cdfe1",
   "metadata": {},
   "outputs": [],
   "source": [
    "import pandas as pd\n",
    "import numpy as np\n",
    "import os\n",
    "import seaborn as sns\n",
    "import matplotlib.pyplot as plt\n",
    "import scipy"
   ]
  },
  {
   "cell_type": "code",
   "execution_count": 9,
   "id": "5c0736db",
   "metadata": {},
   "outputs": [],
   "source": [
    "path = r'C:\\Users\\emman\\OneDrive\\Documents\\Instacart Basket Analysis (Oct-22)'"
   ]
  },
  {
   "cell_type": "code",
   "execution_count": 10,
   "id": "0f4a10f5",
   "metadata": {},
   "outputs": [],
   "source": [
    "ord_prods_cust_merged = pd.read_pickle(os.path.join(path, '02 Data', 'prepared Data', 'ord_prods_cust_merged.pkl'))"
   ]
  },
  {
   "cell_type": "code",
   "execution_count": 11,
   "id": "ba6baabf",
   "metadata": {},
   "outputs": [],
   "source": [
    "df = ord_prods_cust_merged"
   ]
  },
  {
   "cell_type": "code",
   "execution_count": 12,
   "id": "a36c0d3a",
   "metadata": {},
   "outputs": [],
   "source": [
    "# To drop unneeded _merge column\n",
    "df.drop(columns={'_merge'},inplace=True)"
   ]
  },
  {
   "cell_type": "markdown",
   "id": "efbc325e",
   "metadata": {},
   "source": [
    "### Q2. Consider any security implications that might exist for this new data. You’ll need to address any PII data in the data before continuing your analysis.\n",
    "\n",
    " - **Reflection**: customer data set has a lot of PII data, including names, address and salary. These PII data will not be removed as it is not specified in the project brief. However, I will make a note of it in the final report."
   ]
  },
  {
   "cell_type": "markdown",
   "id": "d596aec8",
   "metadata": {},
   "source": [
    "### Q3. The Instacart officers are interested in comparing customer behavior in different geographic areas. Create a regional segmentation of the data. You’ll need to create a “Region” column based on the “State” column from your customers data set.\n",
    "\n",
    " - Use the region information in this Wikipedia article to create your column (you only need to create regions, not divisions).\n",
    " - Determine whether there’s a difference in spending habits between the different U.S. regions. (Hint: You can do this by crossing the variable you just created with the spending flag.)"
   ]
  },
  {
   "cell_type": "markdown",
   "id": "62e59850",
   "metadata": {},
   "source": [
    "## Creating a region flag"
   ]
  },
  {
   "cell_type": "code",
   "execution_count": 13,
   "id": "3c5609d6",
   "metadata": {},
   "outputs": [],
   "source": [
    "# defining regions as list objects\n",
    "northeast=['Maine','New Hampshire','Vermont','Massachusetts','Rhode Island','Connecticut','New York','Pennsylvania','New Jersey']\n",
    "midwest=['Wisconsin','Michigan','Illinois','Indiana','Ohio','North Dakota','South Dakota','Nebraska','Kansas','Minnesota','Iowa','Missouri']\n",
    "south=['Delaware','Maryland','District of Columbia','Virginia','West Virginia','North Carolina','South Carolina','Georgia','Florida','Kentucky','Tennessee','Mississippi','Alabama','Oklahoma','Texas','Arkansas','Louisiana']\n",
    "west=['Idaho','Montana','Wyoming','Nevada','Utah','Colorado','Arizona','New Mexico','Alaska','Washington','Oregon','California','Hawaii']"
   ]
  },
  {
   "cell_type": "code",
   "execution_count": 14,
   "id": "6dabbc07",
   "metadata": {},
   "outputs": [],
   "source": [
    "# creating an empty list and for loop logic\n",
    "result=[]\n",
    "\n",
    "for value in df['state']:\n",
    "    if value in northeast:\n",
    "        result.append('Northeast')\n",
    "    elif value in midwest:\n",
    "        result.append('Midwest')\n",
    "    elif value in south:\n",
    "        result.append('South')\n",
    "    elif value in west:\n",
    "        result.append('West')"
   ]
  },
  {
   "cell_type": "code",
   "execution_count": 15,
   "id": "9f09107f",
   "metadata": {},
   "outputs": [],
   "source": [
    "# creating the region column based on the for loop results\n",
    "df['regions']=result"
   ]
  },
  {
   "cell_type": "code",
   "execution_count": 16,
   "id": "d1ecb82a",
   "metadata": {},
   "outputs": [
    {
     "data": {
      "text/plain": [
       "South        10791885\n",
       "West          8292913\n",
       "Midwest       7597325\n",
       "Northeast     5722736\n",
       "Name: regions, dtype: int64"
      ]
     },
     "execution_count": 16,
     "metadata": {},
     "output_type": "execute_result"
    }
   ],
   "source": [
    "# To check the value counts in the regions column\n",
    "df['regions'].value_counts()"
   ]
  },
  {
   "cell_type": "code",
   "execution_count": 17,
   "id": "783ecb60",
   "metadata": {},
   "outputs": [
    {
     "data": {
      "text/plain": [
       "32404859"
      ]
     },
     "execution_count": 17,
     "metadata": {},
     "output_type": "execute_result"
    }
   ],
   "source": [
    "# To check that the regions column is the same length as the rest of the data frame\n",
    "len(df['regions'])"
   ]
  },
  {
   "cell_type": "code",
   "execution_count": 18,
   "id": "2b1f00f6",
   "metadata": {},
   "outputs": [
    {
     "data": {
      "text/html": [
       "<div>\n",
       "<style scoped>\n",
       "    .dataframe tbody tr th:only-of-type {\n",
       "        vertical-align: middle;\n",
       "    }\n",
       "\n",
       "    .dataframe tbody tr th {\n",
       "        vertical-align: top;\n",
       "    }\n",
       "\n",
       "    .dataframe thead th {\n",
       "        text-align: right;\n",
       "    }\n",
       "</style>\n",
       "<table border=\"1\" class=\"dataframe\">\n",
       "  <thead>\n",
       "    <tr style=\"text-align: right;\">\n",
       "      <th></th>\n",
       "      <th>order_id</th>\n",
       "      <th>user_id</th>\n",
       "      <th>order_number</th>\n",
       "      <th>orders_day_of_week</th>\n",
       "      <th>order_hour_of_day</th>\n",
       "      <th>days_since_prior_order</th>\n",
       "      <th>product_id</th>\n",
       "      <th>add_to_cart_order</th>\n",
       "      <th>reordered</th>\n",
       "      <th>product_name</th>\n",
       "      <th>...</th>\n",
       "      <th>first_name</th>\n",
       "      <th>last_name</th>\n",
       "      <th>gender</th>\n",
       "      <th>state</th>\n",
       "      <th>age</th>\n",
       "      <th>date_joined</th>\n",
       "      <th>no_of_dependents</th>\n",
       "      <th>marital_status</th>\n",
       "      <th>income</th>\n",
       "      <th>regions</th>\n",
       "    </tr>\n",
       "  </thead>\n",
       "  <tbody>\n",
       "    <tr>\n",
       "      <th>0</th>\n",
       "      <td>2539329</td>\n",
       "      <td>1</td>\n",
       "      <td>1</td>\n",
       "      <td>2</td>\n",
       "      <td>8</td>\n",
       "      <td>NaN</td>\n",
       "      <td>196</td>\n",
       "      <td>1</td>\n",
       "      <td>0</td>\n",
       "      <td>Soda</td>\n",
       "      <td>...</td>\n",
       "      <td>Linda</td>\n",
       "      <td>Nguyen</td>\n",
       "      <td>Female</td>\n",
       "      <td>Alabama</td>\n",
       "      <td>31</td>\n",
       "      <td>2/17/2019</td>\n",
       "      <td>3</td>\n",
       "      <td>married</td>\n",
       "      <td>40423</td>\n",
       "      <td>South</td>\n",
       "    </tr>\n",
       "    <tr>\n",
       "      <th>1</th>\n",
       "      <td>2398795</td>\n",
       "      <td>1</td>\n",
       "      <td>2</td>\n",
       "      <td>3</td>\n",
       "      <td>7</td>\n",
       "      <td>15.0</td>\n",
       "      <td>196</td>\n",
       "      <td>1</td>\n",
       "      <td>1</td>\n",
       "      <td>Soda</td>\n",
       "      <td>...</td>\n",
       "      <td>Linda</td>\n",
       "      <td>Nguyen</td>\n",
       "      <td>Female</td>\n",
       "      <td>Alabama</td>\n",
       "      <td>31</td>\n",
       "      <td>2/17/2019</td>\n",
       "      <td>3</td>\n",
       "      <td>married</td>\n",
       "      <td>40423</td>\n",
       "      <td>South</td>\n",
       "    </tr>\n",
       "    <tr>\n",
       "      <th>2</th>\n",
       "      <td>473747</td>\n",
       "      <td>1</td>\n",
       "      <td>3</td>\n",
       "      <td>3</td>\n",
       "      <td>12</td>\n",
       "      <td>21.0</td>\n",
       "      <td>196</td>\n",
       "      <td>1</td>\n",
       "      <td>1</td>\n",
       "      <td>Soda</td>\n",
       "      <td>...</td>\n",
       "      <td>Linda</td>\n",
       "      <td>Nguyen</td>\n",
       "      <td>Female</td>\n",
       "      <td>Alabama</td>\n",
       "      <td>31</td>\n",
       "      <td>2/17/2019</td>\n",
       "      <td>3</td>\n",
       "      <td>married</td>\n",
       "      <td>40423</td>\n",
       "      <td>South</td>\n",
       "    </tr>\n",
       "    <tr>\n",
       "      <th>3</th>\n",
       "      <td>2254736</td>\n",
       "      <td>1</td>\n",
       "      <td>4</td>\n",
       "      <td>4</td>\n",
       "      <td>7</td>\n",
       "      <td>29.0</td>\n",
       "      <td>196</td>\n",
       "      <td>1</td>\n",
       "      <td>1</td>\n",
       "      <td>Soda</td>\n",
       "      <td>...</td>\n",
       "      <td>Linda</td>\n",
       "      <td>Nguyen</td>\n",
       "      <td>Female</td>\n",
       "      <td>Alabama</td>\n",
       "      <td>31</td>\n",
       "      <td>2/17/2019</td>\n",
       "      <td>3</td>\n",
       "      <td>married</td>\n",
       "      <td>40423</td>\n",
       "      <td>South</td>\n",
       "    </tr>\n",
       "    <tr>\n",
       "      <th>4</th>\n",
       "      <td>431534</td>\n",
       "      <td>1</td>\n",
       "      <td>5</td>\n",
       "      <td>4</td>\n",
       "      <td>15</td>\n",
       "      <td>28.0</td>\n",
       "      <td>196</td>\n",
       "      <td>1</td>\n",
       "      <td>1</td>\n",
       "      <td>Soda</td>\n",
       "      <td>...</td>\n",
       "      <td>Linda</td>\n",
       "      <td>Nguyen</td>\n",
       "      <td>Female</td>\n",
       "      <td>Alabama</td>\n",
       "      <td>31</td>\n",
       "      <td>2/17/2019</td>\n",
       "      <td>3</td>\n",
       "      <td>married</td>\n",
       "      <td>40423</td>\n",
       "      <td>South</td>\n",
       "    </tr>\n",
       "  </tbody>\n",
       "</table>\n",
       "<p>5 rows × 34 columns</p>\n",
       "</div>"
      ],
      "text/plain": [
       "   order_id  user_id  order_number  orders_day_of_week  order_hour_of_day  \\\n",
       "0   2539329        1             1                   2                  8   \n",
       "1   2398795        1             2                   3                  7   \n",
       "2    473747        1             3                   3                 12   \n",
       "3   2254736        1             4                   4                  7   \n",
       "4    431534        1             5                   4                 15   \n",
       "\n",
       "   days_since_prior_order  product_id  add_to_cart_order  reordered  \\\n",
       "0                     NaN         196                  1          0   \n",
       "1                    15.0         196                  1          1   \n",
       "2                    21.0         196                  1          1   \n",
       "3                    29.0         196                  1          1   \n",
       "4                    28.0         196                  1          1   \n",
       "\n",
       "  product_name  ...  first_name  last_name  gender    state age date_joined  \\\n",
       "0         Soda  ...       Linda     Nguyen  Female  Alabama  31   2/17/2019   \n",
       "1         Soda  ...       Linda     Nguyen  Female  Alabama  31   2/17/2019   \n",
       "2         Soda  ...       Linda     Nguyen  Female  Alabama  31   2/17/2019   \n",
       "3         Soda  ...       Linda     Nguyen  Female  Alabama  31   2/17/2019   \n",
       "4         Soda  ...       Linda     Nguyen  Female  Alabama  31   2/17/2019   \n",
       "\n",
       "  no_of_dependents marital_status  income regions  \n",
       "0                3        married   40423   South  \n",
       "1                3        married   40423   South  \n",
       "2                3        married   40423   South  \n",
       "3                3        married   40423   South  \n",
       "4                3        married   40423   South  \n",
       "\n",
       "[5 rows x 34 columns]"
      ]
     },
     "execution_count": 18,
     "metadata": {},
     "output_type": "execute_result"
    }
   ],
   "source": [
    "df.head(5)"
   ]
  },
  {
   "cell_type": "markdown",
   "id": "fa4a1632",
   "metadata": {},
   "source": [
    "#### Determine whether there’s a difference in spending habits between the different U.S. regions. (Hint: You can do this by crossing the variable you just created with the spending flag.) "
   ]
  },
  {
   "cell_type": "code",
   "execution_count": 21,
   "id": "f76be32e",
   "metadata": {},
   "outputs": [],
   "source": [
    "# Create a flag that assigns a “types of spenders” label to a user ID based on average prices.\n",
    "\n",
    "df.loc[df['avg_price'] < 10, 'spender_flag'] = 'Low spender'"
   ]
  },
  {
   "cell_type": "code",
   "execution_count": 22,
   "id": "f2e49fed",
   "metadata": {},
   "outputs": [],
   "source": [
    "df.loc[df['avg_price'] >= 10, 'spender_flag'] = 'High spender'"
   ]
  },
  {
   "cell_type": "code",
   "execution_count": 23,
   "id": "e7f47e99",
   "metadata": {},
   "outputs": [
    {
     "data": {
      "text/plain": [
       "Low spender     31770614\n",
       "High spender      634245\n",
       "Name: spender_flag, dtype: int64"
      ]
     },
     "execution_count": 23,
     "metadata": {},
     "output_type": "execute_result"
    }
   ],
   "source": [
    "df['spender_flag'].value_counts(dropna = False)"
   ]
  },
  {
   "cell_type": "code",
   "execution_count": 26,
   "id": "daf0a0f1",
   "metadata": {},
   "outputs": [],
   "source": [
    "# Creating a crosstab to determine difference in spending power across regions\n",
    "crosstab=pd.crosstab(df['regions'],df['spender_flag'],dropna=False)"
   ]
  },
  {
   "cell_type": "code",
   "execution_count": 27,
   "id": "8d6a2d56",
   "metadata": {},
   "outputs": [
    {
     "data": {
      "text/html": [
       "<div>\n",
       "<style scoped>\n",
       "    .dataframe tbody tr th:only-of-type {\n",
       "        vertical-align: middle;\n",
       "    }\n",
       "\n",
       "    .dataframe tbody tr th {\n",
       "        vertical-align: top;\n",
       "    }\n",
       "\n",
       "    .dataframe thead th {\n",
       "        text-align: right;\n",
       "    }\n",
       "</style>\n",
       "<table border=\"1\" class=\"dataframe\">\n",
       "  <thead>\n",
       "    <tr style=\"text-align: right;\">\n",
       "      <th>spender_flag</th>\n",
       "      <th>High spender</th>\n",
       "      <th>Low spender</th>\n",
       "    </tr>\n",
       "    <tr>\n",
       "      <th>regions</th>\n",
       "      <th></th>\n",
       "      <th></th>\n",
       "    </tr>\n",
       "  </thead>\n",
       "  <tbody>\n",
       "    <tr>\n",
       "      <th>Midwest</th>\n",
       "      <td>155975</td>\n",
       "      <td>7441350</td>\n",
       "    </tr>\n",
       "    <tr>\n",
       "      <th>Northeast</th>\n",
       "      <td>108225</td>\n",
       "      <td>5614511</td>\n",
       "    </tr>\n",
       "    <tr>\n",
       "      <th>South</th>\n",
       "      <td>209691</td>\n",
       "      <td>10582194</td>\n",
       "    </tr>\n",
       "    <tr>\n",
       "      <th>West</th>\n",
       "      <td>160354</td>\n",
       "      <td>8132559</td>\n",
       "    </tr>\n",
       "  </tbody>\n",
       "</table>\n",
       "</div>"
      ],
      "text/plain": [
       "spender_flag  High spender  Low spender\n",
       "regions                                \n",
       "Midwest             155975      7441350\n",
       "Northeast           108225      5614511\n",
       "South               209691     10582194\n",
       "West                160354      8132559"
      ]
     },
     "execution_count": 27,
     "metadata": {},
     "output_type": "execute_result"
    }
   ],
   "source": [
    "pd.crosstab(index=df.regions, columns=df.spender_flag)"
   ]
  },
  {
   "cell_type": "markdown",
   "id": "45e561c2",
   "metadata": {},
   "source": [
    "#### Each region has very similar proportions of high vs. low spenders (around 33% high spenders and 67% low spenders)"
   ]
  },
  {
   "cell_type": "markdown",
   "id": "dd6739d3",
   "metadata": {},
   "source": [
    "### Q4. The Instacart CFO isn’t interested in customers who don’t generate much revenue for the app. Create an exclusion flag for low-activity customers (customers with less than 5 orders) and exclude them from the data. Make sure you export this sample."
   ]
  },
  {
   "cell_type": "code",
   "execution_count": 29,
   "id": "bd57d47a",
   "metadata": {},
   "outputs": [],
   "source": [
    "# To create an activity flag based on max_order\n",
    "df.loc[df['max_order']>=5,'activity']='normal'\n",
    "df.loc[df['max_order']<5,'activity']='low'"
   ]
  },
  {
   "cell_type": "code",
   "execution_count": 30,
   "id": "06999d6f",
   "metadata": {},
   "outputs": [
    {
     "data": {
      "text/plain": [
       "normal    30964564\n",
       "low        1440295\n",
       "Name: activity, dtype: int64"
      ]
     },
     "execution_count": 30,
     "metadata": {},
     "output_type": "execute_result"
    }
   ],
   "source": [
    "# To check the value counts in the activity flag column\n",
    "df['activity'].value_counts()"
   ]
  },
  {
   "cell_type": "code",
   "execution_count": 31,
   "id": "4222e04b",
   "metadata": {},
   "outputs": [
    {
     "data": {
      "text/plain": [
       "32404859"
      ]
     },
     "execution_count": 31,
     "metadata": {},
     "output_type": "execute_result"
    }
   ],
   "source": [
    "# To check that the length of the activity column matches the dataframe\n",
    "len(df['activity'])"
   ]
  },
  {
   "cell_type": "code",
   "execution_count": 32,
   "id": "0d0c258c",
   "metadata": {},
   "outputs": [],
   "source": [
    "# To create a dataframe containing only low activity customers\n",
    "df_low=df[df['activity']=='low']"
   ]
  },
  {
   "cell_type": "code",
   "execution_count": 33,
   "id": "c7175823",
   "metadata": {},
   "outputs": [
    {
     "data": {
      "text/html": [
       "<div>\n",
       "<style scoped>\n",
       "    .dataframe tbody tr th:only-of-type {\n",
       "        vertical-align: middle;\n",
       "    }\n",
       "\n",
       "    .dataframe tbody tr th {\n",
       "        vertical-align: top;\n",
       "    }\n",
       "\n",
       "    .dataframe thead th {\n",
       "        text-align: right;\n",
       "    }\n",
       "</style>\n",
       "<table border=\"1\" class=\"dataframe\">\n",
       "  <thead>\n",
       "    <tr style=\"text-align: right;\">\n",
       "      <th></th>\n",
       "      <th>order_id</th>\n",
       "      <th>user_id</th>\n",
       "      <th>order_number</th>\n",
       "      <th>orders_day_of_week</th>\n",
       "      <th>order_hour_of_day</th>\n",
       "      <th>days_since_prior_order</th>\n",
       "      <th>product_id</th>\n",
       "      <th>add_to_cart_order</th>\n",
       "      <th>reordered</th>\n",
       "      <th>product_name</th>\n",
       "      <th>...</th>\n",
       "      <th>last_name</th>\n",
       "      <th>gender</th>\n",
       "      <th>state</th>\n",
       "      <th>age</th>\n",
       "      <th>date_joined</th>\n",
       "      <th>no_of_dependents</th>\n",
       "      <th>marital_status</th>\n",
       "      <th>income</th>\n",
       "      <th>regions</th>\n",
       "      <th>activity</th>\n",
       "    </tr>\n",
       "  </thead>\n",
       "  <tbody>\n",
       "    <tr>\n",
       "      <th>1510</th>\n",
       "      <td>520620</td>\n",
       "      <td>120</td>\n",
       "      <td>1</td>\n",
       "      <td>3</td>\n",
       "      <td>11</td>\n",
       "      <td>NaN</td>\n",
       "      <td>196</td>\n",
       "      <td>2</td>\n",
       "      <td>0</td>\n",
       "      <td>Soda</td>\n",
       "      <td>...</td>\n",
       "      <td>Rich</td>\n",
       "      <td>Female</td>\n",
       "      <td>Kentucky</td>\n",
       "      <td>54</td>\n",
       "      <td>3/2/2017</td>\n",
       "      <td>2</td>\n",
       "      <td>married</td>\n",
       "      <td>99219</td>\n",
       "      <td>South</td>\n",
       "      <td>low</td>\n",
       "    </tr>\n",
       "    <tr>\n",
       "      <th>1511</th>\n",
       "      <td>3273029</td>\n",
       "      <td>120</td>\n",
       "      <td>3</td>\n",
       "      <td>2</td>\n",
       "      <td>8</td>\n",
       "      <td>19.0</td>\n",
       "      <td>196</td>\n",
       "      <td>2</td>\n",
       "      <td>1</td>\n",
       "      <td>Soda</td>\n",
       "      <td>...</td>\n",
       "      <td>Rich</td>\n",
       "      <td>Female</td>\n",
       "      <td>Kentucky</td>\n",
       "      <td>54</td>\n",
       "      <td>3/2/2017</td>\n",
       "      <td>2</td>\n",
       "      <td>married</td>\n",
       "      <td>99219</td>\n",
       "      <td>South</td>\n",
       "      <td>low</td>\n",
       "    </tr>\n",
       "    <tr>\n",
       "      <th>1512</th>\n",
       "      <td>520620</td>\n",
       "      <td>120</td>\n",
       "      <td>1</td>\n",
       "      <td>3</td>\n",
       "      <td>11</td>\n",
       "      <td>NaN</td>\n",
       "      <td>46149</td>\n",
       "      <td>1</td>\n",
       "      <td>0</td>\n",
       "      <td>Zero Calorie Cola</td>\n",
       "      <td>...</td>\n",
       "      <td>Rich</td>\n",
       "      <td>Female</td>\n",
       "      <td>Kentucky</td>\n",
       "      <td>54</td>\n",
       "      <td>3/2/2017</td>\n",
       "      <td>2</td>\n",
       "      <td>married</td>\n",
       "      <td>99219</td>\n",
       "      <td>South</td>\n",
       "      <td>low</td>\n",
       "    </tr>\n",
       "    <tr>\n",
       "      <th>1513</th>\n",
       "      <td>3273029</td>\n",
       "      <td>120</td>\n",
       "      <td>3</td>\n",
       "      <td>2</td>\n",
       "      <td>8</td>\n",
       "      <td>19.0</td>\n",
       "      <td>46149</td>\n",
       "      <td>1</td>\n",
       "      <td>1</td>\n",
       "      <td>Zero Calorie Cola</td>\n",
       "      <td>...</td>\n",
       "      <td>Rich</td>\n",
       "      <td>Female</td>\n",
       "      <td>Kentucky</td>\n",
       "      <td>54</td>\n",
       "      <td>3/2/2017</td>\n",
       "      <td>2</td>\n",
       "      <td>married</td>\n",
       "      <td>99219</td>\n",
       "      <td>South</td>\n",
       "      <td>low</td>\n",
       "    </tr>\n",
       "    <tr>\n",
       "      <th>1514</th>\n",
       "      <td>520620</td>\n",
       "      <td>120</td>\n",
       "      <td>1</td>\n",
       "      <td>3</td>\n",
       "      <td>11</td>\n",
       "      <td>NaN</td>\n",
       "      <td>26348</td>\n",
       "      <td>3</td>\n",
       "      <td>0</td>\n",
       "      <td>Mixed Fruit Fruit Snacks</td>\n",
       "      <td>...</td>\n",
       "      <td>Rich</td>\n",
       "      <td>Female</td>\n",
       "      <td>Kentucky</td>\n",
       "      <td>54</td>\n",
       "      <td>3/2/2017</td>\n",
       "      <td>2</td>\n",
       "      <td>married</td>\n",
       "      <td>99219</td>\n",
       "      <td>South</td>\n",
       "      <td>low</td>\n",
       "    </tr>\n",
       "  </tbody>\n",
       "</table>\n",
       "<p>5 rows × 35 columns</p>\n",
       "</div>"
      ],
      "text/plain": [
       "      order_id  user_id  order_number  orders_day_of_week  order_hour_of_day  \\\n",
       "1510    520620      120             1                   3                 11   \n",
       "1511   3273029      120             3                   2                  8   \n",
       "1512    520620      120             1                   3                 11   \n",
       "1513   3273029      120             3                   2                  8   \n",
       "1514    520620      120             1                   3                 11   \n",
       "\n",
       "      days_since_prior_order  product_id  add_to_cart_order  reordered  \\\n",
       "1510                     NaN         196                  2          0   \n",
       "1511                    19.0         196                  2          1   \n",
       "1512                     NaN       46149                  1          0   \n",
       "1513                    19.0       46149                  1          1   \n",
       "1514                     NaN       26348                  3          0   \n",
       "\n",
       "                  product_name  ...  last_name  gender     state age  \\\n",
       "1510                      Soda  ...       Rich  Female  Kentucky  54   \n",
       "1511                      Soda  ...       Rich  Female  Kentucky  54   \n",
       "1512         Zero Calorie Cola  ...       Rich  Female  Kentucky  54   \n",
       "1513         Zero Calorie Cola  ...       Rich  Female  Kentucky  54   \n",
       "1514  Mixed Fruit Fruit Snacks  ...       Rich  Female  Kentucky  54   \n",
       "\n",
       "     date_joined no_of_dependents marital_status income  regions activity  \n",
       "1510    3/2/2017                2        married  99219    South      low  \n",
       "1511    3/2/2017                2        married  99219    South      low  \n",
       "1512    3/2/2017                2        married  99219    South      low  \n",
       "1513    3/2/2017                2        married  99219    South      low  \n",
       "1514    3/2/2017                2        married  99219    South      low  \n",
       "\n",
       "[5 rows x 35 columns]"
      ]
     },
     "execution_count": 33,
     "metadata": {},
     "output_type": "execute_result"
    }
   ],
   "source": [
    "df_low.head()"
   ]
  },
  {
   "cell_type": "code",
   "execution_count": 34,
   "id": "c4668942",
   "metadata": {},
   "outputs": [
    {
     "data": {
      "text/plain": [
       "(1440295, 35)"
      ]
     },
     "execution_count": 34,
     "metadata": {},
     "output_type": "execute_result"
    }
   ],
   "source": [
    "df_low.shape"
   ]
  },
  {
   "cell_type": "code",
   "execution_count": null,
   "id": "dfd60517",
   "metadata": {},
   "outputs": [],
   "source": [
    "# Exporting low activity sample as a pkl file\n",
    "df_low.to_pickle(os.path.join(path,'Data','Prepared Data','low_activity_user_data.pkl'))"
   ]
  }
 ],
 "metadata": {
  "kernelspec": {
   "display_name": "Python 3 (ipykernel)",
   "language": "python",
   "name": "python3"
  },
  "language_info": {
   "codemirror_mode": {
    "name": "ipython",
    "version": 3
   },
   "file_extension": ".py",
   "mimetype": "text/x-python",
   "name": "python",
   "nbconvert_exporter": "python",
   "pygments_lexer": "ipython3",
   "version": "3.9.13"
  }
 },
 "nbformat": 4,
 "nbformat_minor": 5
}
